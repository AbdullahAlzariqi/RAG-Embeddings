{
 "cells": [
  {
   "cell_type": "code",
   "execution_count": 36,
   "metadata": {},
   "outputs": [],
   "source": [
    "from evaluator import RetrieverEvaluator,compare_models\n",
    "import json\n"
   ]
  },
  {
   "cell_type": "code",
   "execution_count": null,
   "metadata": {},
   "outputs": [],
   "source": []
  },
  {
   "cell_type": "code",
   "execution_count": 37,
   "metadata": {},
   "outputs": [],
   "source": [
    "evaluator = RetrieverEvaluator()\n"
   ]
  },
  {
   "cell_type": "code",
   "execution_count": 38,
   "metadata": {},
   "outputs": [],
   "source": [
    "with open('/Users/abdullah/Documents/Embedding-Test/RAG-Embeddings/results_json/cohere_results_comp.json', 'r') as file:\n",
    "    cohere_data = json.load(file)\n",
    "cohere_results = evaluator.evaluate_retrieval(cohere_data)\n",
    "\n",
    "\n",
    "with open('/Users/abdullah/Documents/Embedding-Test/RAG-Embeddings/results_json/voyage_ai_results_comp.json', 'r') as file:\n",
    "    voyage_data = json.load(file)\n",
    "voyage_results = evaluator.evaluate_retrieval(voyage_data)"
   ]
  },
  {
   "cell_type": "code",
   "execution_count": 39,
   "metadata": {},
   "outputs": [],
   "source": [
    "with open('/Users/abdullah/Documents/Embedding-Test/RAG-Embeddings/results_json/gemini_results_comp_528.json', 'r') as file:\n",
    "    gemini_data = json.load(file)\n",
    "gemini_results = evaluator.evaluate_retrieval(gemini_data)\n",
    "with open('/Users/abdullah/Documents/Embedding-Test/RAG-Embeddings/results_json/openai_results_comp.json', 'r') as file:\n",
    "    openai_data = json.load(file)\n",
    "openai_results = evaluator.evaluate_retrieval(openai_data)\n",
    "with open('/Users/abdullah/Documents/Embedding-Test/RAG-Embeddings/results_json/jina_results_comp.json', 'r') as file:\n",
    "    jina_data = json.load(file)\n",
    "jina_results = evaluator.evaluate_retrieval(jina_data)"
   ]
  },
  {
   "cell_type": "code",
   "execution_count": 40,
   "metadata": {},
   "outputs": [],
   "source": [
    "model_results = {\n",
    "    \"Voyage\": voyage_results,\n",
    "    \"Cohere\": cohere_results,\n",
    "    \"Gemini\":gemini_results,\n",
    "    \"OpenAI\":openai_results,\n",
    "    \"Jina\":jina_results\n",
    "}\n"
   ]
  },
  {
   "cell_type": "code",
   "execution_count": 41,
   "metadata": {},
   "outputs": [],
   "source": [
    "comparison = compare_models(model_results)"
   ]
  },
  {
   "cell_type": "code",
   "execution_count": 42,
   "metadata": {},
   "outputs": [
    {
     "name": "stdout",
     "output_type": "stream",
     "text": [
      "{'hit_ratio_at_3': {'best_model': 'Voyage', 'best_score': 1.0, 'rankings': [('Voyage', 1.0), ('Cohere', 1.0), ('Gemini', 1.0), ('OpenAI', 1.0), ('Jina', 1.0)]}, 'context_length_std': {'best_model': 'Voyage', 'best_score': 11.549350631096104, 'rankings': [('Voyage', 11.549350631096104), ('Cohere', 11.549350631096104), ('Gemini', 11.549350631096104), ('OpenAI', 11.549350631096104), ('Jina', 11.549350631096104)]}, 'hit_ratio_at_1': {'best_model': 'Voyage', 'best_score': 1.0, 'rankings': [('Voyage', 1.0), ('Cohere', 1.0), ('Gemini', 1.0), ('OpenAI', 1.0), ('Jina', 1.0)]}, 'text_diversity': {'best_model': 'Voyage', 'best_score': 0.5630674794316292, 'rankings': [('Voyage', 0.5630674794316292), ('Gemini', 0.40016908049583433), ('OpenAI', 0.3660030484199524), ('Jina', 0.3395213603973389), ('Cohere', 0.3105424255132675)]}, 'hit_ratio_at_5': {'best_model': 'Voyage', 'best_score': 1.0, 'rankings': [('Voyage', 1.0), ('Cohere', 1.0), ('Gemini', 1.0), ('OpenAI', 1.0), ('Jina', 1.0)]}, 'avg_context_length': {'best_model': 'Voyage', 'best_score': 113.25, 'rankings': [('Voyage', 113.25), ('Cohere', 113.25), ('Gemini', 113.25), ('OpenAI', 113.25), ('Jina', 113.25)]}, 'context_diversity': {'best_model': 'Voyage', 'best_score': -1.0132789611816406e-07, 'rankings': [('Voyage', -1.0132789611816406e-07), ('Cohere', -1.0132789611816406e-07), ('Gemini', -1.0132789611816406e-07), ('OpenAI', -1.0132789611816406e-07), ('Jina', -1.0132789611816406e-07)]}}\n"
     ]
    }
   ],
   "source": [
    "print(comparison)"
   ]
  },
  {
   "cell_type": "markdown",
   "metadata": {},
   "source": []
  },
  {
   "cell_type": "markdown",
   "metadata": {},
   "source": [
    "{'hit_ratio_at_1': {'best_model': 'Voyage', 'best_score': 1.0, 'rankings': [('Voyage', 1.0), ('Cohere', 1.0), ('Gemini', 1.0), ('OpenAI', 1.0), ('Jina', 1.0)]}, 'hit_ratio_at_3': {'best_model': 'Voyage', 'best_score': 1.0, 'rankings': [('Voyage', 1.0), ('Cohere', 1.0), ('Gemini', 1.0), ('OpenAI', 1.0), ('Jina', 1.0)]}, 'avg_context_length': {'best_model': 'Voyage', 'best_score': 113.25, 'rankings': [('Voyage', 113.25), ('Cohere', 113.25), ('Gemini', 113.25), ('OpenAI', 113.25), ('Jina', 113.25)]}, 'hit_ratio_at_5': {'best_model': 'Voyage', 'best_score': 1.0, 'rankings': [('Voyage', 1.0), ('Cohere', 1.0), ('Gemini', 1.0), ('OpenAI', 1.0), ('Jina', 1.0)]}, 'text_diversity': {'best_model': 'Gemini', 'best_score': 0.40554158836603166, 'rankings': [('Gemini', 0.40554158836603166), ('OpenAI', 0.34328250885009765), ('Jina', 0.3395213603973389), ('Cohere', 0.3336178779602051), ('Voyage', 0.3280265361070633)]}, 'context_length_std': {'best_model': 'Voyage', 'best_score': 11.549350631096104, 'rankings': [('Voyage', 11.549350631096104), ('Cohere', 11.549350631096104), ('Gemini', 11.549350631096104), ('OpenAI', 11.549350631096104), ('Jina', 11.549350631096104)]}, 'context_diversity': {'best_model': 'Voyage', 'best_score': -1.0132789611816406e-07, 'rankings': [('Voyage', -1.0132789611816406e-07), ('Cohere', -1.0132789611816406e-07), ('Gemini', -1.0132789611816406e-07), ('OpenAI', -1.0132789611816406e-07), ('Jina', -1.0132789611816406e-07)]}}\n"
   ]
  }
 ],
 "metadata": {
  "kernelspec": {
   "display_name": ".venv",
   "language": "python",
   "name": "python3"
  },
  "language_info": {
   "codemirror_mode": {
    "name": "ipython",
    "version": 3
   },
   "file_extension": ".py",
   "mimetype": "text/x-python",
   "name": "python",
   "nbconvert_exporter": "python",
   "pygments_lexer": "ipython3",
   "version": "3.12.7"
  }
 },
 "nbformat": 4,
 "nbformat_minor": 2
}
