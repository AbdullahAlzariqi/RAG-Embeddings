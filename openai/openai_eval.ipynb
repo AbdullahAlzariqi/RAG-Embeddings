{
 "cells": [
  {
   "cell_type": "code",
   "execution_count": 1,
   "metadata": {},
   "outputs": [
    {
     "name": "stderr",
     "output_type": "stream",
     "text": [
      "/Users/abdullah/Documents/Embedding-Test/RAG-Embeddings/.venv/lib/python3.12/site-packages/pinecone/data/index.py:1: TqdmWarning: IProgress not found. Please update jupyter and ipywidgets. See https://ipywidgets.readthedocs.io/en/stable/user_install.html\n",
      "  from tqdm.autonotebook import tqdm\n"
     ]
    },
    {
     "data": {
      "text/plain": [
       "True"
      ]
     },
     "execution_count": 1,
     "metadata": {},
     "output_type": "execute_result"
    }
   ],
   "source": [
    "from pinecone import Pinecone, ServerlessSpec\n",
    "import os\n",
    "from langchain_pinecone import PineconeVectorStore\n",
    "from langchain_openai import OpenAIEmbeddings\n",
    "from dotenv import load_dotenv\n",
    "import json\n",
    "load_dotenv()\n"
   ]
  },
  {
   "cell_type": "code",
   "execution_count": 2,
   "metadata": {},
   "outputs": [],
   "source": [
    "pinecone_api_key = os.getenv(\"PINECONE_API_KEY\")\n",
    "pc = Pinecone(api_key=pinecone_api_key)\n",
    "\n",
    "index_name = \"openai-test\"\n",
    "index = pc.Index(index_name)"
   ]
  },
  {
   "cell_type": "code",
   "execution_count": 3,
   "metadata": {},
   "outputs": [],
   "source": [
    "embeddings = OpenAIEmbeddings(model=\"text-embedding-3-large\")\n",
    "\n",
    "vector_store = PineconeVectorStore(index=index, embedding=embeddings)"
   ]
  },
  {
   "cell_type": "code",
   "execution_count": 4,
   "metadata": {},
   "outputs": [],
   "source": [
    "HardQuestions=[{\n",
    "    \"question\": \"What specific condition must be met for a health facility to be eligible to apply for narcotic drug quotas from MOHAP's central warehouses?\",\n",
    "    \"answer\": \"The facility must submit an official letter from the technical director, detailing the types, quantities, concentrations of narcotic drugs required, and the number of hospital beds and operations performed.\",\n",
    "    \"context\": \"This service allows hospitals and one-day surgery centers to apply for narcotic drug quotas for use within the facility.\",\n",
    "    \"source\": \"https://mohap.gov.ae/en/services/approve-narcotic-drugs-for-internal-pharmacies-at-private-hospitals\"\n",
    "  },\n",
    "  {\n",
    "    \"question\": \"How many beds must a hospital have before it can apply for the higher licensing fees of AED 30,000 for MOHAP approval?\",\n",
    "    \"answer\": \"Hospitals with 50 to 100 beds must pay AED 30,000 for final licensing fees.\",\n",
    "    \"context\": \"This fee applies to hospitals with a specific number of beds when applying for final licensing approval from MOHAP.\",\n",
    "    \"source\": \"https://mohap.gov.ae/en/services/licensing-of-private-medical-facilities\"\n",
    "  },\n",
    "  {\n",
    "    \"question\": \"Which specific document must be completed at the Customer Happiness Centers by the owner of a healthcare facility applying for licensing?\",\n",
    "    \"answer\": \"The owner must complete a character reference document, which is available at the Customer Happiness Centers.\",\n",
    "    \"context\": \"This service requires a character reference for licensing a healthcare facility under MOHAP regulations.\",\n",
    "    \"source\": \"https://mohap.gov.ae/en/services/licensing-of-private-medical-facilities\"\n",
    "  },\n",
    "  {\n",
    "    \"question\": \"What is the exact document required from the Department of Economic Development for the final approval of a medical facility license?\",\n",
    "    \"answer\": \"A trade license issued by the Department of Economic Development is required for the final approval of a medical facility license.\",\n",
    "    \"context\": \"This document is part of the final approval process for healthcare facilities applying for a license under MOHAP.\",\n",
    "    \"source\": \"https://mohap.gov.ae/en/services/licensing-of-private-medical-facilities\"\n",
    "  },\n",
    "  {\n",
    "    \"question\": \"What is the specific service classification for the 'Appeal Against Medical Licensing Committee Decisions' service?\",\n",
    "    \"answer\": \"The service classification for this appeal is 'Transactional' and the service type is 'Government to Business'.\",\n",
    "    \"context\": \"This service allows businesses and professionals to appeal decisions made by the Medical Licensing Committee.\",\n",
    "    \"source\": \"https://mohap.gov.ae/en/services/appeal-against-medical-licensing-committee-decisions\"\n",
    "  },\n",
    "  {\n",
    "    \"question\": \"What is the minimum number of days it takes to receive engineering team approval after submitting a request for health facility inspection?\",\n",
    "    \"answer\": \"It takes a minimum of 2 working days to receive engineering team approval after submitting an inspection request.\",\n",
    "    \"context\": \"This service involves inspecting the facility before approval is granted for licensing.\",\n",
    "    \"source\": \"https://mohap.gov.ae/en/services/licensing-of-private-medical-facilities\"\n",
    "  },\n",
    "  {\n",
    "    \"question\": \"Which exact document must include the names of all licensed doctors and technicians within a healthcare facility when applying for a visiting doctor license?\",\n",
    "    \"answer\": \"A list of licensed doctors and technicians in the facility must be included when applying for a visiting doctor license.\",\n",
    "    \"context\": \"This is required when applying for the service allowing a visiting doctor to practice at a private healthcare facility.\",\n",
    "    \"source\": \"https://mohap.gov.ae/en/services/licensing-of-a-visiting-doctor-from-the-uae\"\n",
    "  },\n",
    "  {\n",
    "    \"question\": \"What is the exact fee for re-verifying a geometric site plan for a general clinic or medical center?\",\n",
    "    \"answer\": \"The fee for re-verifying a geometric site plan for a general clinic or medical center is AED 500.\",\n",
    "    \"context\": \"This service requires a fee for re-verifying geometric site plans during the healthcare facility licensing process.\",\n",
    "    \"source\": \"https://mohap.gov.ae/en/services/licensing-of-private-medical-facilities\"\n",
    "  },\n",
    "  {\n",
    "    \"question\": \"What specific exclusion applies to the issuance of a good professional conduct certificate for health professionals?\",\n",
    "    \"answer\": \"A good professional conduct certificate will not be issued to those who have only an initial license from the Ministry of Health and Prevention.\",\n",
    "    \"context\": \"This service issues good professional conduct certificates to licensed health professionals in the UAE.\",\n",
    "    \"source\": \"https://mohap.gov.ae/en/services/issue-of-good-professional-conduct-certificates-for-health-professional\"\n",
    "  },\n",
    "  {\n",
    "    \"question\": \"What exact documentation must be submitted if a health professional’s license has been canceled and they are applying for a good standing certificate?\",\n",
    "    \"answer\": \"A license cancellation letter from MOHAP must be submitted when applying for a good standing certificate after license cancellation.\",\n",
    "    \"context\": \"This service provides good standing certificates for health professionals who have held MOHAP licenses.\",\n",
    "    \"source\": \"https://mohap.gov.ae/en/services/issue-of-good-professional-conduct-certificates-for-health-professional\"\n",
    "  },\n",
    "  {\n",
    "    \"question\": \"What is the maximum number of specialties a diagnostic center can add before incurring only AED 100 per additional specialty?\",\n",
    "    \"answer\": \"A diagnostic center can add up to 3 specialties before incurring AED 100 per additional specialty.\",\n",
    "    \"context\": \"This service allows diagnostic centers to add new specialties, with specific fee structures depending on the number of specialties.\",\n",
    "    \"source\": \"https://mohap.gov.ae/en/services/adding-a-new-specialty-to-private-health-facilities\"\n",
    "  },\n",
    "  {\n",
    "    \"question\": \"For how long is the initial approval of a medical facility’s license valid, and what does it allow the owner to do?\",\n",
    "    \"answer\": \"The initial approval is valid for 6 months and allows the owner to meet the technical requirements for obtaining a MOHAP license but does not permit the facility to practice or operate.\",\n",
    "    \"context\": \"The initial approval grants time for the facility to complete technical requirements, but does not authorize operation.\",\n",
    "    \"source\": \"https://mohap.gov.ae/en/services/licensing-of-private-medical-facilities\"\n",
    "  },\n",
    "  {\n",
    "    \"question\": \"What specific document must be signed by the supervising pharmacist or doctor when applying for approval to modify narcotic drugs quotas?\",\n",
    "    \"answer\": \"Form F6, 'Approval/Determination or Modification of Quotas of the Drugs,' must be signed by the supervising pharmacist or doctor.\",\n",
    "    \"context\": \"This service allows hospitals and one-day surgery clinics to modify narcotic drug quotas for internal pharmacies.\",\n",
    "    \"source\": \"https://mohap.gov.ae/en/services/approve-narcotic-drugs-for-internal-pharmacies-at-private-hospitals\"\n",
    "  },\n",
    "  {\n",
    "    \"question\": \"How many transactions were processed for the service 'Approve Narcotic Drugs for Internal Pharmacies at Private Hospitals' according to MOHAP records?\",\n",
    "    \"answer\": \"There were 8 transactions processed for this service according to MOHAP records.\",\n",
    "    \"context\": \"This service allows hospitals and day surgery centers to apply for approval to purchase narcotic drugs.\",\n",
    "    \"source\": \"https://mohap.gov.ae/en/services/approve-narcotic-drugs-for-internal-pharmacies-at-private-hospitals\"\n",
    "  },\n",
    "  {\n",
    "    \"question\": \"What is the exact timeframe for submitting an appeal against a Medical Licensing Committee decision after receiving the decision?\",\n",
    "    \"answer\": \"An appeal must be submitted within 15 days from the date of receiving the decision.\",\n",
    "    \"context\": \"This service allows healthcare professionals and establishments to appeal against decisions made by the Medical Licensing Committee.\",\n",
    "    \"source\": \"https://mohap.gov.ae/en/services/appeal-against-medical-licensing-committee-decisions\"\n",
    "  },\n",
    "  {\n",
    "    \"question\": \"Which document must be presented at the General Directorate of Residency and Foreigners’ Affairs if parents choose to collect the newborn’s documents through the 'Mabrouk Ma Yak' service in person?\",\n",
    "    \"answer\": \"Parents must present the original family data at the General Directorate of Residency and Foreigners’ Affairs when collecting the newborn’s documents.\",\n",
    "    \"context\": \"'Mabrouk Ma Yak' provides newborn Emiratis with multiple identification documents, including options for collection and delivery.\",\n",
    "    \"source\": \"https://mohap.gov.ae/en/about-us/projects-and-initiatives/mabrouk-ma-yak\"\n",
    "  },\n",
    "  {\n",
    "    \"question\": \"What are the exact conditions under which a good professional conduct certificate cannot be issued to a health professional?\",\n",
    "    \"answer\": \"A good professional conduct certificate cannot be issued to a trainee, a visitor, someone with an initial license, or anyone not licensed by the Ministry of Health and Prevention.\",\n",
    "    \"context\": \"This service provides good professional conduct certificates for health professionals under specific conditions.\",\n",
    "    \"source\": \"https://mohap.gov.ae/en/services/issue-of-good-professional-conduct-certificates-for-health-professional\"\n",
    "  },\n",
    "  {\n",
    "    \"question\": \"What is the service classification and service type for 'Registration of a Medical Equipment' under MOHAP?\",\n",
    "    \"answer\": \"The service classification is 'Transactional' and the service type is 'Government to Business.'\",\n",
    "    \"context\": \"This service allows businesses to register medical equipment for use in healthcare facilities.\",\n",
    "    \"source\": \"https://mohap.gov.ae/en/services/registration-of-a-medical-equipment\"\n",
    "  },\n",
    "  {\n",
    "    \"question\": \"Which regulatory entity must issue a radiation protection license for healthcare facilities in the UAE?\",\n",
    "    \"answer\": \"The Federal Authority for Nuclear Regulation must issue the radiation protection license.\",\n",
    "    \"context\": \"Healthcare facilities requiring radiation services must obtain a license from the Federal Authority for Nuclear Regulation.\",\n",
    "    \"source\": \"https://mohap.gov.ae/en/services/licensing-of-private-medical-facilities\"\n",
    "  },\n",
    "  {\n",
    "    \"question\": \"What is the email address for submitting inquiries about controlled chemicals to MOHAP?\",\n",
    "    \"answer\": \"The email address is controlledchemicals@mohap.gov.ae.\",\n",
    "    \"context\": \"This contact information is provided for inquiries related to the regulation of anesthetic drugs and chemical precursors.\",\n",
    "    \"source\": \"https://mohap.gov.ae/en/services/provide-controlled-drugs-prescription-book\"\n",
    "  }]"
   ]
  },
  {
   "cell_type": "code",
   "execution_count": 5,
   "metadata": {},
   "outputs": [],
   "source": [
    "eval = []\n",
    "csver = []\n",
    "for i,question in enumerate(HardQuestions):\n",
    "    results = vector_store.similarity_search(\n",
    "    question[\"question\"],\n",
    "    k=5,)\n",
    "    eval.append({\"question\":question[\"question\"],\n",
    "                 \"retrieved-k\":[]\n",
    "                    })\n",
    "    for doc in results:\n",
    "        csver.append([question[\"question\"], doc.page_content, question[\"context\"], question[\"answer\"],question[\"source\"]])\n",
    "        eval[i][\"retrieved-k\"].append({\"text\":doc.page_content,\"context\":question[\"context\"],\"answer\":question[\"answer\"],\"source\":question[\"source\"]})\n",
    "  \n",
    "    \n",
    "    "
   ]
  },
  {
   "cell_type": "code",
   "execution_count": 6,
   "metadata": {},
   "outputs": [],
   "source": [
    "eval_object = json.dumps(eval, indent=2)\n",
    " \n",
    "# Writing to sample.json\n",
    "with open(\"../results_json/openai_results_comp.json\", \"w\") as outfile:\n",
    "    outfile.write(eval_object)"
   ]
  },
  {
   "cell_type": "code",
   "execution_count": 7,
   "metadata": {},
   "outputs": [
    {
     "name": "stdout",
     "output_type": "stream",
     "text": [
      "CSV file has been written successfully with UTF-8 encoding.\n"
     ]
    }
   ],
   "source": [
    "import csv\n",
    "header =[\"question\",\"retreived chunk\", \"context\", \"answer\", \"source\"]\n",
    "with open('../results_csv/openai.csv', 'w', newline='', encoding='utf-8') as file:\n",
    "    writer = csv.writer(file)\n",
    "    \n",
    "    # Write the header\n",
    "    writer.writerow(header)\n",
    "    \n",
    "    # Write the data rows\n",
    "    writer.writerows(csver)\n",
    "\n",
    "print(\"CSV file has been written successfully with UTF-8 encoding.\")"
   ]
  }
 ],
 "metadata": {
  "kernelspec": {
   "display_name": ".venv",
   "language": "python",
   "name": "python3"
  },
  "language_info": {
   "codemirror_mode": {
    "name": "ipython",
    "version": 3
   },
   "file_extension": ".py",
   "mimetype": "text/x-python",
   "name": "python",
   "nbconvert_exporter": "python",
   "pygments_lexer": "ipython3",
   "version": "3.12.7"
  }
 },
 "nbformat": 4,
 "nbformat_minor": 2
}
